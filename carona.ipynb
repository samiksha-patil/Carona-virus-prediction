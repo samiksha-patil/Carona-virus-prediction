{
 "cells": [
  {
   "cell_type": "code",
   "execution_count": 1,
   "metadata": {},
   "outputs": [],
   "source": [
    "import numpy as np\n",
    "import pandas as pd\n",
    "import matplotlib.pyplot as plt"
   ]
  },
  {
   "cell_type": "code",
   "execution_count": 2,
   "metadata": {},
   "outputs": [],
   "source": [
    "confirmed_cases = pd.read_csv('D:\\\\machine learning\\\\corona_detection\\\\time_series_covid_19_confirmed.csv')"
   ]
  },
  {
   "cell_type": "code",
   "execution_count": 3,
   "metadata": {},
   "outputs": [],
   "source": [
    "death_reported = pd.read_csv('D:\\\\machine learning\\\\corona_detection\\\\time_series_covid_19_deaths.csv')"
   ]
  },
  {
   "cell_type": "code",
   "execution_count": 4,
   "metadata": {},
   "outputs": [],
   "source": [
    "recovered_cases = pd.read_csv('D:\\\\machine learning\\\\corona_detection\\\\time_series_covid_19_recovered.csv')"
   ]
  },
  {
   "cell_type": "code",
   "execution_count": 6,
   "metadata": {},
   "outputs": [
    {
     "data": {
      "text/html": [
       "<div>\n",
       "<style scoped>\n",
       "    .dataframe tbody tr th:only-of-type {\n",
       "        vertical-align: middle;\n",
       "    }\n",
       "\n",
       "    .dataframe tbody tr th {\n",
       "        vertical-align: top;\n",
       "    }\n",
       "\n",
       "    .dataframe thead th {\n",
       "        text-align: right;\n",
       "    }\n",
       "</style>\n",
       "<table border=\"1\" class=\"dataframe\">\n",
       "  <thead>\n",
       "    <tr style=\"text-align: right;\">\n",
       "      <th></th>\n",
       "      <th>Province/State</th>\n",
       "      <th>Country/Region</th>\n",
       "      <th>Lat</th>\n",
       "      <th>Long</th>\n",
       "      <th>1/22/20</th>\n",
       "      <th>1/23/20</th>\n",
       "      <th>1/24/20</th>\n",
       "      <th>1/25/20</th>\n",
       "      <th>1/26/20</th>\n",
       "      <th>1/27/20</th>\n",
       "      <th>...</th>\n",
       "      <th>4/24/20</th>\n",
       "      <th>4/25/20</th>\n",
       "      <th>4/26/20</th>\n",
       "      <th>4/27/20</th>\n",
       "      <th>4/28/20</th>\n",
       "      <th>4/29/20</th>\n",
       "      <th>4/30/20</th>\n",
       "      <th>5/1/20</th>\n",
       "      <th>5/2/20</th>\n",
       "      <th>5/3/20</th>\n",
       "    </tr>\n",
       "  </thead>\n",
       "  <tbody>\n",
       "    <tr>\n",
       "      <th>0</th>\n",
       "      <td>NaN</td>\n",
       "      <td>Afghanistan</td>\n",
       "      <td>33.0000</td>\n",
       "      <td>65.0000</td>\n",
       "      <td>0</td>\n",
       "      <td>0</td>\n",
       "      <td>0</td>\n",
       "      <td>0</td>\n",
       "      <td>0</td>\n",
       "      <td>0</td>\n",
       "      <td>...</td>\n",
       "      <td>1351</td>\n",
       "      <td>1463</td>\n",
       "      <td>1531</td>\n",
       "      <td>1703</td>\n",
       "      <td>1828</td>\n",
       "      <td>1939</td>\n",
       "      <td>2171</td>\n",
       "      <td>2335</td>\n",
       "      <td>2469</td>\n",
       "      <td>2704</td>\n",
       "    </tr>\n",
       "    <tr>\n",
       "      <th>1</th>\n",
       "      <td>NaN</td>\n",
       "      <td>Albania</td>\n",
       "      <td>41.1533</td>\n",
       "      <td>20.1683</td>\n",
       "      <td>0</td>\n",
       "      <td>0</td>\n",
       "      <td>0</td>\n",
       "      <td>0</td>\n",
       "      <td>0</td>\n",
       "      <td>0</td>\n",
       "      <td>...</td>\n",
       "      <td>678</td>\n",
       "      <td>712</td>\n",
       "      <td>726</td>\n",
       "      <td>736</td>\n",
       "      <td>750</td>\n",
       "      <td>766</td>\n",
       "      <td>773</td>\n",
       "      <td>782</td>\n",
       "      <td>789</td>\n",
       "      <td>795</td>\n",
       "    </tr>\n",
       "    <tr>\n",
       "      <th>2</th>\n",
       "      <td>NaN</td>\n",
       "      <td>Algeria</td>\n",
       "      <td>28.0339</td>\n",
       "      <td>1.6596</td>\n",
       "      <td>0</td>\n",
       "      <td>0</td>\n",
       "      <td>0</td>\n",
       "      <td>0</td>\n",
       "      <td>0</td>\n",
       "      <td>0</td>\n",
       "      <td>...</td>\n",
       "      <td>3127</td>\n",
       "      <td>3256</td>\n",
       "      <td>3382</td>\n",
       "      <td>3517</td>\n",
       "      <td>3649</td>\n",
       "      <td>3848</td>\n",
       "      <td>4006</td>\n",
       "      <td>4154</td>\n",
       "      <td>4295</td>\n",
       "      <td>4474</td>\n",
       "    </tr>\n",
       "    <tr>\n",
       "      <th>3</th>\n",
       "      <td>NaN</td>\n",
       "      <td>Andorra</td>\n",
       "      <td>42.5063</td>\n",
       "      <td>1.5218</td>\n",
       "      <td>0</td>\n",
       "      <td>0</td>\n",
       "      <td>0</td>\n",
       "      <td>0</td>\n",
       "      <td>0</td>\n",
       "      <td>0</td>\n",
       "      <td>...</td>\n",
       "      <td>731</td>\n",
       "      <td>738</td>\n",
       "      <td>738</td>\n",
       "      <td>743</td>\n",
       "      <td>743</td>\n",
       "      <td>743</td>\n",
       "      <td>745</td>\n",
       "      <td>745</td>\n",
       "      <td>747</td>\n",
       "      <td>748</td>\n",
       "    </tr>\n",
       "    <tr>\n",
       "      <th>4</th>\n",
       "      <td>NaN</td>\n",
       "      <td>Angola</td>\n",
       "      <td>-11.2027</td>\n",
       "      <td>17.8739</td>\n",
       "      <td>0</td>\n",
       "      <td>0</td>\n",
       "      <td>0</td>\n",
       "      <td>0</td>\n",
       "      <td>0</td>\n",
       "      <td>0</td>\n",
       "      <td>...</td>\n",
       "      <td>25</td>\n",
       "      <td>25</td>\n",
       "      <td>26</td>\n",
       "      <td>27</td>\n",
       "      <td>27</td>\n",
       "      <td>27</td>\n",
       "      <td>27</td>\n",
       "      <td>30</td>\n",
       "      <td>35</td>\n",
       "      <td>35</td>\n",
       "    </tr>\n",
       "  </tbody>\n",
       "</table>\n",
       "<p>5 rows × 107 columns</p>\n",
       "</div>"
      ],
      "text/plain": [
       "  Province/State Country/Region      Lat     Long  1/22/20  1/23/20  1/24/20  \\\n",
       "0            NaN    Afghanistan  33.0000  65.0000        0        0        0   \n",
       "1            NaN        Albania  41.1533  20.1683        0        0        0   \n",
       "2            NaN        Algeria  28.0339   1.6596        0        0        0   \n",
       "3            NaN        Andorra  42.5063   1.5218        0        0        0   \n",
       "4            NaN         Angola -11.2027  17.8739        0        0        0   \n",
       "\n",
       "   1/25/20  1/26/20  1/27/20  ...  4/24/20  4/25/20  4/26/20  4/27/20  \\\n",
       "0        0        0        0  ...     1351     1463     1531     1703   \n",
       "1        0        0        0  ...      678      712      726      736   \n",
       "2        0        0        0  ...     3127     3256     3382     3517   \n",
       "3        0        0        0  ...      731      738      738      743   \n",
       "4        0        0        0  ...       25       25       26       27   \n",
       "\n",
       "   4/28/20  4/29/20  4/30/20  5/1/20  5/2/20  5/3/20  \n",
       "0     1828     1939     2171    2335    2469    2704  \n",
       "1      750      766      773     782     789     795  \n",
       "2     3649     3848     4006    4154    4295    4474  \n",
       "3      743      743      745     745     747     748  \n",
       "4       27       27       27      30      35      35  \n",
       "\n",
       "[5 rows x 107 columns]"
      ]
     },
     "execution_count": 6,
     "metadata": {},
     "output_type": "execute_result"
    }
   ],
   "source": [
    "confirmed_cases.head()"
   ]
  },
  {
   "cell_type": "code",
   "execution_count": 5,
   "metadata": {},
   "outputs": [
    {
     "data": {
      "text/plain": [
       "Index(['Province/State', 'Country/Region', 'Lat', 'Long', '1/22/20', '1/23/20',\n",
       "       '1/24/20', '1/25/20', '1/26/20', '1/27/20',\n",
       "       ...\n",
       "       '4/24/20', '4/25/20', '4/26/20', '4/27/20', '4/28/20', '4/29/20',\n",
       "       '4/30/20', '5/1/20', '5/2/20', '5/3/20'],\n",
       "      dtype='object', length=107)"
      ]
     },
     "execution_count": 5,
     "metadata": {},
     "output_type": "execute_result"
    }
   ],
   "source": [
    "cols = confirmed_cases.keys()\n",
    "cols"
   ]
  },
  {
   "cell_type": "code",
   "execution_count": 6,
   "metadata": {},
   "outputs": [
    {
     "data": {
      "text/html": [
       "<div>\n",
       "<style scoped>\n",
       "    .dataframe tbody tr th:only-of-type {\n",
       "        vertical-align: middle;\n",
       "    }\n",
       "\n",
       "    .dataframe tbody tr th {\n",
       "        vertical-align: top;\n",
       "    }\n",
       "\n",
       "    .dataframe thead th {\n",
       "        text-align: right;\n",
       "    }\n",
       "</style>\n",
       "<table border=\"1\" class=\"dataframe\">\n",
       "  <thead>\n",
       "    <tr style=\"text-align: right;\">\n",
       "      <th></th>\n",
       "      <th>1/22/20</th>\n",
       "      <th>1/23/20</th>\n",
       "      <th>1/24/20</th>\n",
       "      <th>1/25/20</th>\n",
       "      <th>1/26/20</th>\n",
       "      <th>1/27/20</th>\n",
       "      <th>1/28/20</th>\n",
       "      <th>1/29/20</th>\n",
       "      <th>1/30/20</th>\n",
       "      <th>1/31/20</th>\n",
       "      <th>...</th>\n",
       "      <th>4/24/20</th>\n",
       "      <th>4/25/20</th>\n",
       "      <th>4/26/20</th>\n",
       "      <th>4/27/20</th>\n",
       "      <th>4/28/20</th>\n",
       "      <th>4/29/20</th>\n",
       "      <th>4/30/20</th>\n",
       "      <th>5/1/20</th>\n",
       "      <th>5/2/20</th>\n",
       "      <th>5/3/20</th>\n",
       "    </tr>\n",
       "  </thead>\n",
       "  <tbody>\n",
       "    <tr>\n",
       "      <th>0</th>\n",
       "      <td>0</td>\n",
       "      <td>0</td>\n",
       "      <td>0</td>\n",
       "      <td>0</td>\n",
       "      <td>0</td>\n",
       "      <td>0</td>\n",
       "      <td>0</td>\n",
       "      <td>0</td>\n",
       "      <td>0</td>\n",
       "      <td>0</td>\n",
       "      <td>...</td>\n",
       "      <td>1351</td>\n",
       "      <td>1463</td>\n",
       "      <td>1531</td>\n",
       "      <td>1703</td>\n",
       "      <td>1828</td>\n",
       "      <td>1939</td>\n",
       "      <td>2171</td>\n",
       "      <td>2335</td>\n",
       "      <td>2469</td>\n",
       "      <td>2704</td>\n",
       "    </tr>\n",
       "    <tr>\n",
       "      <th>1</th>\n",
       "      <td>0</td>\n",
       "      <td>0</td>\n",
       "      <td>0</td>\n",
       "      <td>0</td>\n",
       "      <td>0</td>\n",
       "      <td>0</td>\n",
       "      <td>0</td>\n",
       "      <td>0</td>\n",
       "      <td>0</td>\n",
       "      <td>0</td>\n",
       "      <td>...</td>\n",
       "      <td>678</td>\n",
       "      <td>712</td>\n",
       "      <td>726</td>\n",
       "      <td>736</td>\n",
       "      <td>750</td>\n",
       "      <td>766</td>\n",
       "      <td>773</td>\n",
       "      <td>782</td>\n",
       "      <td>789</td>\n",
       "      <td>795</td>\n",
       "    </tr>\n",
       "    <tr>\n",
       "      <th>2</th>\n",
       "      <td>0</td>\n",
       "      <td>0</td>\n",
       "      <td>0</td>\n",
       "      <td>0</td>\n",
       "      <td>0</td>\n",
       "      <td>0</td>\n",
       "      <td>0</td>\n",
       "      <td>0</td>\n",
       "      <td>0</td>\n",
       "      <td>0</td>\n",
       "      <td>...</td>\n",
       "      <td>3127</td>\n",
       "      <td>3256</td>\n",
       "      <td>3382</td>\n",
       "      <td>3517</td>\n",
       "      <td>3649</td>\n",
       "      <td>3848</td>\n",
       "      <td>4006</td>\n",
       "      <td>4154</td>\n",
       "      <td>4295</td>\n",
       "      <td>4474</td>\n",
       "    </tr>\n",
       "    <tr>\n",
       "      <th>3</th>\n",
       "      <td>0</td>\n",
       "      <td>0</td>\n",
       "      <td>0</td>\n",
       "      <td>0</td>\n",
       "      <td>0</td>\n",
       "      <td>0</td>\n",
       "      <td>0</td>\n",
       "      <td>0</td>\n",
       "      <td>0</td>\n",
       "      <td>0</td>\n",
       "      <td>...</td>\n",
       "      <td>731</td>\n",
       "      <td>738</td>\n",
       "      <td>738</td>\n",
       "      <td>743</td>\n",
       "      <td>743</td>\n",
       "      <td>743</td>\n",
       "      <td>745</td>\n",
       "      <td>745</td>\n",
       "      <td>747</td>\n",
       "      <td>748</td>\n",
       "    </tr>\n",
       "    <tr>\n",
       "      <th>4</th>\n",
       "      <td>0</td>\n",
       "      <td>0</td>\n",
       "      <td>0</td>\n",
       "      <td>0</td>\n",
       "      <td>0</td>\n",
       "      <td>0</td>\n",
       "      <td>0</td>\n",
       "      <td>0</td>\n",
       "      <td>0</td>\n",
       "      <td>0</td>\n",
       "      <td>...</td>\n",
       "      <td>25</td>\n",
       "      <td>25</td>\n",
       "      <td>26</td>\n",
       "      <td>27</td>\n",
       "      <td>27</td>\n",
       "      <td>27</td>\n",
       "      <td>27</td>\n",
       "      <td>30</td>\n",
       "      <td>35</td>\n",
       "      <td>35</td>\n",
       "    </tr>\n",
       "    <tr>\n",
       "      <th>...</th>\n",
       "      <td>...</td>\n",
       "      <td>...</td>\n",
       "      <td>...</td>\n",
       "      <td>...</td>\n",
       "      <td>...</td>\n",
       "      <td>...</td>\n",
       "      <td>...</td>\n",
       "      <td>...</td>\n",
       "      <td>...</td>\n",
       "      <td>...</td>\n",
       "      <td>...</td>\n",
       "      <td>...</td>\n",
       "      <td>...</td>\n",
       "      <td>...</td>\n",
       "      <td>...</td>\n",
       "      <td>...</td>\n",
       "      <td>...</td>\n",
       "      <td>...</td>\n",
       "      <td>...</td>\n",
       "      <td>...</td>\n",
       "      <td>...</td>\n",
       "    </tr>\n",
       "    <tr>\n",
       "      <th>261</th>\n",
       "      <td>0</td>\n",
       "      <td>0</td>\n",
       "      <td>0</td>\n",
       "      <td>0</td>\n",
       "      <td>0</td>\n",
       "      <td>0</td>\n",
       "      <td>0</td>\n",
       "      <td>0</td>\n",
       "      <td>0</td>\n",
       "      <td>0</td>\n",
       "      <td>...</td>\n",
       "      <td>6</td>\n",
       "      <td>6</td>\n",
       "      <td>6</td>\n",
       "      <td>6</td>\n",
       "      <td>6</td>\n",
       "      <td>6</td>\n",
       "      <td>6</td>\n",
       "      <td>6</td>\n",
       "      <td>6</td>\n",
       "      <td>6</td>\n",
       "    </tr>\n",
       "    <tr>\n",
       "      <th>262</th>\n",
       "      <td>0</td>\n",
       "      <td>0</td>\n",
       "      <td>0</td>\n",
       "      <td>0</td>\n",
       "      <td>0</td>\n",
       "      <td>0</td>\n",
       "      <td>0</td>\n",
       "      <td>0</td>\n",
       "      <td>0</td>\n",
       "      <td>0</td>\n",
       "      <td>...</td>\n",
       "      <td>4</td>\n",
       "      <td>4</td>\n",
       "      <td>4</td>\n",
       "      <td>4</td>\n",
       "      <td>8</td>\n",
       "      <td>8</td>\n",
       "      <td>14</td>\n",
       "      <td>16</td>\n",
       "      <td>16</td>\n",
       "      <td>16</td>\n",
       "    </tr>\n",
       "    <tr>\n",
       "      <th>263</th>\n",
       "      <td>0</td>\n",
       "      <td>0</td>\n",
       "      <td>0</td>\n",
       "      <td>0</td>\n",
       "      <td>0</td>\n",
       "      <td>0</td>\n",
       "      <td>0</td>\n",
       "      <td>0</td>\n",
       "      <td>0</td>\n",
       "      <td>0</td>\n",
       "      <td>...</td>\n",
       "      <td>1</td>\n",
       "      <td>1</td>\n",
       "      <td>1</td>\n",
       "      <td>1</td>\n",
       "      <td>1</td>\n",
       "      <td>6</td>\n",
       "      <td>6</td>\n",
       "      <td>7</td>\n",
       "      <td>10</td>\n",
       "      <td>10</td>\n",
       "    </tr>\n",
       "    <tr>\n",
       "      <th>264</th>\n",
       "      <td>0</td>\n",
       "      <td>0</td>\n",
       "      <td>0</td>\n",
       "      <td>0</td>\n",
       "      <td>0</td>\n",
       "      <td>0</td>\n",
       "      <td>0</td>\n",
       "      <td>0</td>\n",
       "      <td>0</td>\n",
       "      <td>0</td>\n",
       "      <td>...</td>\n",
       "      <td>0</td>\n",
       "      <td>0</td>\n",
       "      <td>0</td>\n",
       "      <td>0</td>\n",
       "      <td>0</td>\n",
       "      <td>0</td>\n",
       "      <td>1</td>\n",
       "      <td>1</td>\n",
       "      <td>3</td>\n",
       "      <td>3</td>\n",
       "    </tr>\n",
       "    <tr>\n",
       "      <th>265</th>\n",
       "      <td>0</td>\n",
       "      <td>0</td>\n",
       "      <td>0</td>\n",
       "      <td>0</td>\n",
       "      <td>0</td>\n",
       "      <td>0</td>\n",
       "      <td>0</td>\n",
       "      <td>0</td>\n",
       "      <td>0</td>\n",
       "      <td>0</td>\n",
       "      <td>...</td>\n",
       "      <td>0</td>\n",
       "      <td>0</td>\n",
       "      <td>0</td>\n",
       "      <td>0</td>\n",
       "      <td>0</td>\n",
       "      <td>0</td>\n",
       "      <td>15</td>\n",
       "      <td>15</td>\n",
       "      <td>76</td>\n",
       "      <td>128</td>\n",
       "    </tr>\n",
       "  </tbody>\n",
       "</table>\n",
       "<p>266 rows × 103 columns</p>\n",
       "</div>"
      ],
      "text/plain": [
       "     1/22/20  1/23/20  1/24/20  1/25/20  1/26/20  1/27/20  1/28/20  1/29/20  \\\n",
       "0          0        0        0        0        0        0        0        0   \n",
       "1          0        0        0        0        0        0        0        0   \n",
       "2          0        0        0        0        0        0        0        0   \n",
       "3          0        0        0        0        0        0        0        0   \n",
       "4          0        0        0        0        0        0        0        0   \n",
       "..       ...      ...      ...      ...      ...      ...      ...      ...   \n",
       "261        0        0        0        0        0        0        0        0   \n",
       "262        0        0        0        0        0        0        0        0   \n",
       "263        0        0        0        0        0        0        0        0   \n",
       "264        0        0        0        0        0        0        0        0   \n",
       "265        0        0        0        0        0        0        0        0   \n",
       "\n",
       "     1/30/20  1/31/20  ...  4/24/20  4/25/20  4/26/20  4/27/20  4/28/20  \\\n",
       "0          0        0  ...     1351     1463     1531     1703     1828   \n",
       "1          0        0  ...      678      712      726      736      750   \n",
       "2          0        0  ...     3127     3256     3382     3517     3649   \n",
       "3          0        0  ...      731      738      738      743      743   \n",
       "4          0        0  ...       25       25       26       27       27   \n",
       "..       ...      ...  ...      ...      ...      ...      ...      ...   \n",
       "261        0        0  ...        6        6        6        6        6   \n",
       "262        0        0  ...        4        4        4        4        8   \n",
       "263        0        0  ...        1        1        1        1        1   \n",
       "264        0        0  ...        0        0        0        0        0   \n",
       "265        0        0  ...        0        0        0        0        0   \n",
       "\n",
       "     4/29/20  4/30/20  5/1/20  5/2/20  5/3/20  \n",
       "0       1939     2171    2335    2469    2704  \n",
       "1        766      773     782     789     795  \n",
       "2       3848     4006    4154    4295    4474  \n",
       "3        743      745     745     747     748  \n",
       "4         27       27      30      35      35  \n",
       "..       ...      ...     ...     ...     ...  \n",
       "261        6        6       6       6       6  \n",
       "262        8       14      16      16      16  \n",
       "263        6        6       7      10      10  \n",
       "264        0        1       1       3       3  \n",
       "265        0       15      15      76     128  \n",
       "\n",
       "[266 rows x 103 columns]"
      ]
     },
     "execution_count": 6,
     "metadata": {},
     "output_type": "execute_result"
    }
   ],
   "source": [
    "confirmed= confirmed_cases.loc[:,cols[4]:cols[-1]]\n",
    "confirmed"
   ]
  },
  {
   "cell_type": "code",
   "execution_count": 7,
   "metadata": {},
   "outputs": [],
   "source": [
    "deaths=death_reported.loc[:,cols[4]:cols[-1]]"
   ]
  },
  {
   "cell_type": "raw",
   "metadata": {},
   "source": []
  },
  {
   "cell_type": "raw",
   "metadata": {},
   "source": []
  },
  {
   "cell_type": "code",
   "execution_count": 8,
   "metadata": {},
   "outputs": [],
   "source": [
    "recoveries=recovered_cases.loc[:,cols[4]:cols[-1]]"
   ]
  },
  {
   "cell_type": "code",
   "execution_count": 9,
   "metadata": {},
   "outputs": [],
   "source": [
    "dates=confirmed.keys()\n",
    "world_cases=[]\n",
    "total_deaths=[]\n",
    "mortality_rate = []\n",
    "total_recovered = []\n",
    "for i in dates:\n",
    "    confirmed_sum = confirmed[i].sum()\n",
    "    death_sum = deaths[i].sum()\n",
    "    recovered_sum = recoveries[i].sum()\n",
    "    world_cases.append(confirmed_sum)\n",
    "    total_deaths.append(death_sum)\n",
    "    mortality_rate.append(death_sum/confirmed_sum)\n",
    "    total_recovered.append(recovered_sum)"
   ]
  },
  {
   "cell_type": "code",
   "execution_count": 10,
   "metadata": {},
   "outputs": [
    {
     "data": {
      "text/plain": [
       "3506729"
      ]
     },
     "execution_count": 10,
     "metadata": {},
     "output_type": "execute_result"
    }
   ],
   "source": [
    "confirmed_sum"
   ]
  },
  {
   "cell_type": "code",
   "execution_count": 11,
   "metadata": {},
   "outputs": [
    {
     "data": {
      "text/plain": [
       "247470"
      ]
     },
     "execution_count": 11,
     "metadata": {},
     "output_type": "execute_result"
    }
   ],
   "source": [
    "death_sum"
   ]
  },
  {
   "cell_type": "code",
   "execution_count": 27,
   "metadata": {},
   "outputs": [
    {
     "data": {
      "text/plain": [
       "1125236"
      ]
     },
     "execution_count": 27,
     "metadata": {},
     "output_type": "execute_result"
    }
   ],
   "source": [
    "recovered_sum"
   ]
  },
  {
   "cell_type": "code",
   "execution_count": 29,
   "metadata": {},
   "outputs": [
    {
     "data": {
      "text/plain": [
       "[17,\n",
       " 18,\n",
       " 26,\n",
       " 42,\n",
       " 56,\n",
       " 82,\n",
       " 131,\n",
       " 133,\n",
       " 171,\n",
       " 213,\n",
       " 259,\n",
       " 362,\n",
       " 426,\n",
       " 492,\n",
       " 564,\n",
       " 634,\n",
       " 719,\n",
       " 806,\n",
       " 906,\n",
       " 1013,\n",
       " 1113,\n",
       " 1118,\n",
       " 1371,\n",
       " 1523,\n",
       " 1666,\n",
       " 1770,\n",
       " 1868,\n",
       " 2007,\n",
       " 2122,\n",
       " 2247,\n",
       " 2251,\n",
       " 2458,\n",
       " 2469,\n",
       " 2629,\n",
       " 2708,\n",
       " 2770,\n",
       " 2814,\n",
       " 2872,\n",
       " 2941,\n",
       " 2996,\n",
       " 3085,\n",
       " 3160,\n",
       " 3254,\n",
       " 3347,\n",
       " 3459,\n",
       " 3558,\n",
       " 3801,\n",
       " 3987,\n",
       " 4263,\n",
       " 4614,\n",
       " 4722,\n",
       " 5408,\n",
       " 5830,\n",
       " 6472,\n",
       " 7150,\n",
       " 7956,\n",
       " 8823,\n",
       " 9946,\n",
       " 11422,\n",
       " 13125,\n",
       " 14825,\n",
       " 16759,\n",
       " 19014,\n",
       " 21785,\n",
       " 24788,\n",
       " 28288,\n",
       " 31797,\n",
       " 35323,\n",
       " 39439,\n",
       " 44238,\n",
       " 49675,\n",
       " 55817,\n",
       " 61812,\n",
       " 67981,\n",
       " 73076,\n",
       " 78767,\n",
       " 86662,\n",
       " 93354,\n",
       " 100882,\n",
       " 108113,\n",
       " 114146,\n",
       " 119853,\n",
       " 125561,\n",
       " 132439,\n",
       " 140658,\n",
       " 147946,\n",
       " 156804,\n",
       " 163214,\n",
       " 167773,\n",
       " 173098,\n",
       " 180237,\n",
       " 186914,\n",
       " 193667,\n",
       " 199999,\n",
       " 206187,\n",
       " 209900,\n",
       " 214484,\n",
       " 220799,\n",
       " 227665,\n",
       " 233357,\n",
       " 238619,\n",
       " 243808,\n",
       " 247470]"
      ]
     },
     "execution_count": 29,
     "metadata": {},
     "output_type": "execute_result"
    }
   ],
   "source": [
    "total_deaths"
   ]
  },
  {
   "cell_type": "code",
   "execution_count": 12,
   "metadata": {},
   "outputs": [],
   "source": [
    "days_since_1_22 = np.array([i for i in range(len(dates))]).reshape(-1,1)\n",
    "world_cases = np.array(world_cases).reshape(-1,1)\n",
    "total_death = np.array(total_deaths).reshape(-1,1)\n",
    "total_recovered=np.array(total_recovered).reshape(-1,1)"
   ]
  },
  {
   "cell_type": "code",
   "execution_count": 13,
   "metadata": {},
   "outputs": [],
   "source": [
    "days_in_future = 10\n",
    "future_forecast = np.array([i for i  in range(len(dates)+ days_in_future)]).reshape(-1,1)\n",
    "adjusted_days=future_forecast[:-10]"
   ]
  },
  {
   "cell_type": "code",
   "execution_count": 14,
   "metadata": {},
   "outputs": [
    {
     "data": {
      "text/plain": [
       "array([[  0],\n",
       "       [  1],\n",
       "       [  2],\n",
       "       [  3],\n",
       "       [  4],\n",
       "       [  5],\n",
       "       [  6],\n",
       "       [  7],\n",
       "       [  8],\n",
       "       [  9],\n",
       "       [ 10],\n",
       "       [ 11],\n",
       "       [ 12],\n",
       "       [ 13],\n",
       "       [ 14],\n",
       "       [ 15],\n",
       "       [ 16],\n",
       "       [ 17],\n",
       "       [ 18],\n",
       "       [ 19],\n",
       "       [ 20],\n",
       "       [ 21],\n",
       "       [ 22],\n",
       "       [ 23],\n",
       "       [ 24],\n",
       "       [ 25],\n",
       "       [ 26],\n",
       "       [ 27],\n",
       "       [ 28],\n",
       "       [ 29],\n",
       "       [ 30],\n",
       "       [ 31],\n",
       "       [ 32],\n",
       "       [ 33],\n",
       "       [ 34],\n",
       "       [ 35],\n",
       "       [ 36],\n",
       "       [ 37],\n",
       "       [ 38],\n",
       "       [ 39],\n",
       "       [ 40],\n",
       "       [ 41],\n",
       "       [ 42],\n",
       "       [ 43],\n",
       "       [ 44],\n",
       "       [ 45],\n",
       "       [ 46],\n",
       "       [ 47],\n",
       "       [ 48],\n",
       "       [ 49],\n",
       "       [ 50],\n",
       "       [ 51],\n",
       "       [ 52],\n",
       "       [ 53],\n",
       "       [ 54],\n",
       "       [ 55],\n",
       "       [ 56],\n",
       "       [ 57],\n",
       "       [ 58],\n",
       "       [ 59],\n",
       "       [ 60],\n",
       "       [ 61],\n",
       "       [ 62],\n",
       "       [ 63],\n",
       "       [ 64],\n",
       "       [ 65],\n",
       "       [ 66],\n",
       "       [ 67],\n",
       "       [ 68],\n",
       "       [ 69],\n",
       "       [ 70],\n",
       "       [ 71],\n",
       "       [ 72],\n",
       "       [ 73],\n",
       "       [ 74],\n",
       "       [ 75],\n",
       "       [ 76],\n",
       "       [ 77],\n",
       "       [ 78],\n",
       "       [ 79],\n",
       "       [ 80],\n",
       "       [ 81],\n",
       "       [ 82],\n",
       "       [ 83],\n",
       "       [ 84],\n",
       "       [ 85],\n",
       "       [ 86],\n",
       "       [ 87],\n",
       "       [ 88],\n",
       "       [ 89],\n",
       "       [ 90],\n",
       "       [ 91],\n",
       "       [ 92],\n",
       "       [ 93],\n",
       "       [ 94],\n",
       "       [ 95],\n",
       "       [ 96],\n",
       "       [ 97],\n",
       "       [ 98],\n",
       "       [ 99],\n",
       "       [100],\n",
       "       [101],\n",
       "       [102],\n",
       "       [103],\n",
       "       [104],\n",
       "       [105],\n",
       "       [106],\n",
       "       [107],\n",
       "       [108],\n",
       "       [109],\n",
       "       [110],\n",
       "       [111],\n",
       "       [112]])"
      ]
     },
     "execution_count": 14,
     "metadata": {},
     "output_type": "execute_result"
    }
   ],
   "source": [
    "future_forecast"
   ]
  },
  {
   "cell_type": "code",
   "execution_count": 15,
   "metadata": {},
   "outputs": [
    {
     "data": {
      "text/plain": [
       "['01/22/2020',\n",
       " '01/23/2020',\n",
       " '01/24/2020',\n",
       " '01/25/2020',\n",
       " '01/26/2020',\n",
       " '01/27/2020',\n",
       " '01/28/2020',\n",
       " '01/29/2020',\n",
       " '01/30/2020',\n",
       " '01/31/2020',\n",
       " '02/01/2020',\n",
       " '02/02/2020',\n",
       " '02/03/2020',\n",
       " '02/04/2020',\n",
       " '02/05/2020',\n",
       " '02/06/2020',\n",
       " '02/07/2020',\n",
       " '02/08/2020',\n",
       " '02/09/2020',\n",
       " '02/10/2020',\n",
       " '02/11/2020',\n",
       " '02/12/2020',\n",
       " '02/13/2020',\n",
       " '02/14/2020',\n",
       " '02/15/2020',\n",
       " '02/16/2020',\n",
       " '02/17/2020',\n",
       " '02/18/2020',\n",
       " '02/19/2020',\n",
       " '02/20/2020',\n",
       " '02/21/2020',\n",
       " '02/22/2020',\n",
       " '02/23/2020',\n",
       " '02/24/2020',\n",
       " '02/25/2020',\n",
       " '02/26/2020',\n",
       " '02/27/2020',\n",
       " '02/28/2020',\n",
       " '02/29/2020',\n",
       " '03/01/2020',\n",
       " '03/02/2020',\n",
       " '03/03/2020',\n",
       " '03/04/2020',\n",
       " '03/05/2020',\n",
       " '03/06/2020',\n",
       " '03/07/2020',\n",
       " '03/08/2020',\n",
       " '03/09/2020',\n",
       " '03/10/2020',\n",
       " '03/11/2020',\n",
       " '03/12/2020',\n",
       " '03/13/2020',\n",
       " '03/14/2020',\n",
       " '03/15/2020',\n",
       " '03/16/2020',\n",
       " '03/17/2020',\n",
       " '03/18/2020',\n",
       " '03/19/2020',\n",
       " '03/20/2020',\n",
       " '03/21/2020',\n",
       " '03/22/2020',\n",
       " '03/23/2020',\n",
       " '03/24/2020',\n",
       " '03/25/2020',\n",
       " '03/26/2020',\n",
       " '03/27/2020',\n",
       " '03/28/2020',\n",
       " '03/29/2020',\n",
       " '03/30/2020',\n",
       " '03/31/2020',\n",
       " '04/01/2020',\n",
       " '04/02/2020',\n",
       " '04/03/2020',\n",
       " '04/04/2020',\n",
       " '04/05/2020',\n",
       " '04/06/2020',\n",
       " '04/07/2020',\n",
       " '04/08/2020',\n",
       " '04/09/2020',\n",
       " '04/10/2020',\n",
       " '04/11/2020',\n",
       " '04/12/2020',\n",
       " '04/13/2020',\n",
       " '04/14/2020',\n",
       " '04/15/2020',\n",
       " '04/16/2020',\n",
       " '04/17/2020',\n",
       " '04/18/2020',\n",
       " '04/19/2020',\n",
       " '04/20/2020',\n",
       " '04/21/2020',\n",
       " '04/22/2020',\n",
       " '04/23/2020',\n",
       " '04/24/2020',\n",
       " '04/25/2020',\n",
       " '04/26/2020',\n",
       " '04/27/2020',\n",
       " '04/28/2020',\n",
       " '04/29/2020',\n",
       " '04/30/2020',\n",
       " '05/01/2020',\n",
       " '05/02/2020',\n",
       " '05/03/2020',\n",
       " '05/04/2020',\n",
       " '05/05/2020',\n",
       " '05/06/2020',\n",
       " '05/07/2020',\n",
       " '05/08/2020',\n",
       " '05/09/2020',\n",
       " '05/10/2020',\n",
       " '05/11/2020',\n",
       " '05/12/2020',\n",
       " '05/13/2020']"
      ]
     },
     "execution_count": 15,
     "metadata": {},
     "output_type": "execute_result"
    }
   ],
   "source": [
    "import time\n",
    "import datetime\n",
    "start='1/22/2020'\n",
    "start_date=datetime.datetime.strptime(start,'%m/%d/%Y')\n",
    "future_forecast_dates = []\n",
    "for i in range(len(future_forecast)):\n",
    " \n",
    "    future_forecast_dates.append((start_date + datetime.timedelta(days= i)).strftime('%m/%d/%Y'))\n",
    "    \n",
    "future_forecast_dates"
   ]
  },
  {
   "cell_type": "code",
   "execution_count": 16,
   "metadata": {},
   "outputs": [],
   "source": [
    "latest_confirmed = confirmed_cases[dates[-1]]\n",
    "lateset_death = death_reported[dates[-1]]\n",
    "latest_recoveries = recovered_cases[dates[-1]]"
   ]
  },
  {
   "cell_type": "code",
   "execution_count": 17,
   "metadata": {},
   "outputs": [
    {
     "data": {
      "text/plain": [
       "0      2704\n",
       "1       795\n",
       "2      4474\n",
       "3       748\n",
       "4        35\n",
       "       ... \n",
       "261       6\n",
       "262      16\n",
       "263      10\n",
       "264       3\n",
       "265     128\n",
       "Name: 5/3/20, Length: 266, dtype: int64"
      ]
     },
     "execution_count": 17,
     "metadata": {},
     "output_type": "execute_result"
    }
   ],
   "source": [
    "latest_confirmed "
   ]
  },
  {
   "cell_type": "code",
   "execution_count": 22,
   "metadata": {},
   "outputs": [
    {
     "data": {
      "text/plain": [
       "['Afghanistan',\n",
       " 'Albania',\n",
       " 'Algeria',\n",
       " 'Andorra',\n",
       " 'Angola',\n",
       " 'Antigua and Barbuda',\n",
       " 'Argentina',\n",
       " 'Armenia',\n",
       " 'Australia',\n",
       " 'Austria',\n",
       " 'Azerbaijan',\n",
       " 'Bahamas',\n",
       " 'Bahrain',\n",
       " 'Bangladesh',\n",
       " 'Barbados',\n",
       " 'Belarus',\n",
       " 'Belgium',\n",
       " 'Benin',\n",
       " 'Bhutan',\n",
       " 'Bolivia',\n",
       " 'Bosnia and Herzegovina',\n",
       " 'Brazil',\n",
       " 'Brunei',\n",
       " 'Bulgaria',\n",
       " 'Burkina Faso',\n",
       " 'Cabo Verde',\n",
       " 'Cambodia',\n",
       " 'Cameroon',\n",
       " 'Canada',\n",
       " 'Central African Republic',\n",
       " 'Chad',\n",
       " 'Chile',\n",
       " 'China',\n",
       " 'Colombia',\n",
       " 'Congo (Brazzaville)',\n",
       " 'Congo (Kinshasa)',\n",
       " 'Costa Rica',\n",
       " \"Cote d'Ivoire\",\n",
       " 'Croatia',\n",
       " 'Diamond Princess',\n",
       " 'Cuba',\n",
       " 'Cyprus',\n",
       " 'Czechia',\n",
       " 'Denmark',\n",
       " 'Djibouti',\n",
       " 'Dominican Republic',\n",
       " 'Ecuador',\n",
       " 'Egypt',\n",
       " 'El Salvador',\n",
       " 'Equatorial Guinea',\n",
       " 'Eritrea',\n",
       " 'Estonia',\n",
       " 'Eswatini',\n",
       " 'Ethiopia',\n",
       " 'Fiji',\n",
       " 'Finland',\n",
       " 'France',\n",
       " 'Gabon',\n",
       " 'Gambia',\n",
       " 'Georgia',\n",
       " 'Germany',\n",
       " 'Ghana',\n",
       " 'Greece',\n",
       " 'Guatemala',\n",
       " 'Guinea',\n",
       " 'Guyana',\n",
       " 'Haiti',\n",
       " 'Holy See',\n",
       " 'Honduras',\n",
       " 'Hungary',\n",
       " 'Iceland',\n",
       " 'India',\n",
       " 'Indonesia',\n",
       " 'Iran',\n",
       " 'Iraq',\n",
       " 'Ireland',\n",
       " 'Israel',\n",
       " 'Italy',\n",
       " 'Jamaica',\n",
       " 'Japan',\n",
       " 'Jordan',\n",
       " 'Kazakhstan',\n",
       " 'Kenya',\n",
       " 'Korea, South',\n",
       " 'Kuwait',\n",
       " 'Kyrgyzstan',\n",
       " 'Latvia',\n",
       " 'Lebanon',\n",
       " 'Liberia',\n",
       " 'Liechtenstein',\n",
       " 'Lithuania',\n",
       " 'Luxembourg',\n",
       " 'Madagascar',\n",
       " 'Malaysia',\n",
       " 'Maldives',\n",
       " 'Malta',\n",
       " 'Mauritania',\n",
       " 'Mauritius',\n",
       " 'Mexico',\n",
       " 'Moldova',\n",
       " 'Monaco',\n",
       " 'Mongolia',\n",
       " 'Montenegro',\n",
       " 'Morocco',\n",
       " 'Namibia',\n",
       " 'Nepal',\n",
       " 'Netherlands',\n",
       " 'New Zealand',\n",
       " 'Nicaragua',\n",
       " 'Niger',\n",
       " 'Nigeria',\n",
       " 'North Macedonia',\n",
       " 'Norway',\n",
       " 'Oman',\n",
       " 'Pakistan',\n",
       " 'Panama',\n",
       " 'Papua New Guinea',\n",
       " 'Paraguay',\n",
       " 'Peru',\n",
       " 'Philippines',\n",
       " 'Poland',\n",
       " 'Portugal',\n",
       " 'Qatar',\n",
       " 'Romania',\n",
       " 'Russia',\n",
       " 'Rwanda',\n",
       " 'Saint Lucia',\n",
       " 'Saint Vincent and the Grenadines',\n",
       " 'San Marino',\n",
       " 'Saudi Arabia',\n",
       " 'Senegal',\n",
       " 'Serbia',\n",
       " 'Seychelles',\n",
       " 'Singapore',\n",
       " 'Slovakia',\n",
       " 'Slovenia',\n",
       " 'Somalia',\n",
       " 'South Africa',\n",
       " 'Spain',\n",
       " 'Sri Lanka',\n",
       " 'Sudan',\n",
       " 'Suriname',\n",
       " 'Sweden',\n",
       " 'Switzerland',\n",
       " 'Taiwan*',\n",
       " 'Tanzania',\n",
       " 'Thailand',\n",
       " 'Togo',\n",
       " 'Trinidad and Tobago',\n",
       " 'Tunisia',\n",
       " 'Turkey',\n",
       " 'Uganda',\n",
       " 'Ukraine',\n",
       " 'United Arab Emirates',\n",
       " 'United Kingdom',\n",
       " 'Uruguay',\n",
       " 'US',\n",
       " 'Uzbekistan',\n",
       " 'Venezuela',\n",
       " 'Vietnam',\n",
       " 'Zambia',\n",
       " 'Zimbabwe',\n",
       " 'Dominica',\n",
       " 'Grenada',\n",
       " 'Mozambique',\n",
       " 'Syria',\n",
       " 'Timor-Leste',\n",
       " 'Belize',\n",
       " 'Laos',\n",
       " 'Libya',\n",
       " 'West Bank and Gaza',\n",
       " 'Guinea-Bissau',\n",
       " 'Mali',\n",
       " 'Saint Kitts and Nevis',\n",
       " 'Kosovo',\n",
       " 'Burma',\n",
       " 'MS Zaandam',\n",
       " 'Botswana',\n",
       " 'Burundi',\n",
       " 'Sierra Leone',\n",
       " 'Malawi',\n",
       " 'South Sudan',\n",
       " 'Western Sahara',\n",
       " 'Sao Tome and Principe',\n",
       " 'Yemen',\n",
       " 'Comoros',\n",
       " 'Tajikistan']"
      ]
     },
     "execution_count": 22,
     "metadata": {},
     "output_type": "execute_result"
    }
   ],
   "source": [
    "unique_countries = list(confirmed_cases['Country/Region'].unique())\n",
    "unique_countries"
   ]
  },
  {
   "cell_type": "code",
   "execution_count": 24,
   "metadata": {},
   "outputs": [
    {
     "data": {
      "text/plain": [
       "\"\\ncountry_confirmed_cases= []\\nno_cases = []\\nfor i in unique_countries:\\n    cases = latest_confirmed[confirmed_cases['Country/Region']**i].sum()\\n    if cases>0:\\n        country_confirmed_cases.append(cases)\\n    else:\\n        no_cases.append(i)\\nfor i in no_cases:\\n    unique_contries.remove(1)\\nunique_coutries=[k for k, v in sorted(zip(unique_countries,country_confirmed_cases),)]\\n\""
      ]
     },
     "execution_count": 24,
     "metadata": {},
     "output_type": "execute_result"
    }
   ],
   "source": [
    "\n",
    "country_confirmed_cases= []\n",
    "no_cases = []\n",
    "for i in unique_countries:\n",
    "    cases = latest_confirmed[confirmed_cases['Country/Region']**i].sum()\n",
    "    if cases>0:\n",
    "        country_confirmed_cases.append(cases)\n",
    "    else:\n",
    "        no_cases.append(i)\n",
    "for i in no_cases:\n",
    "    unique_contries.remove(1)\n",
    "unique_coutries=[k for k, v in sorted(zip(unique_countries,country_confirmed_cases),)]\n",
    "\"\"\""
   ]
  },
  {
   "cell_type": "code",
   "execution_count": 18,
   "metadata": {},
   "outputs": [
    {
     "data": {
      "text/plain": [
       "array([[    555],\n",
       "       [    654],\n",
       "       [    941],\n",
       "       [   1434],\n",
       "       [   2118],\n",
       "       [   2927],\n",
       "       [   5578],\n",
       "       [   6166],\n",
       "       [   8234],\n",
       "       [   9927],\n",
       "       [  12038],\n",
       "       [  16787],\n",
       "       [  19881],\n",
       "       [  23892],\n",
       "       [  27635],\n",
       "       [  30794],\n",
       "       [  34391],\n",
       "       [  37120],\n",
       "       [  40150],\n",
       "       [  42762],\n",
       "       [  44802],\n",
       "       [  45221],\n",
       "       [  60368],\n",
       "       [  66885],\n",
       "       [  69030],\n",
       "       [  71224],\n",
       "       [  73258],\n",
       "       [  75136],\n",
       "       [  75639],\n",
       "       [  76197],\n",
       "       [  76819],\n",
       "       [  78572],\n",
       "       [  78958],\n",
       "       [  79561],\n",
       "       [  80406],\n",
       "       [  81388],\n",
       "       [  82746],\n",
       "       [  84112],\n",
       "       [  86011],\n",
       "       [  88369],\n",
       "       [  90306],\n",
       "       [  92840],\n",
       "       [  95120],\n",
       "       [  97886],\n",
       "       [ 101801],\n",
       "       [ 105847],\n",
       "       [ 109821],\n",
       "       [ 113590],\n",
       "       [ 118620],\n",
       "       [ 125875],\n",
       "       [ 128352],\n",
       "       [ 145219],\n",
       "       [ 156116],\n",
       "       [ 167466],\n",
       "       [ 181603],\n",
       "       [ 197113],\n",
       "       [ 214846],\n",
       "       [ 242616],\n",
       "       [ 272247],\n",
       "       [ 304555],\n",
       "       [ 337018],\n",
       "       [ 378282],\n",
       "       [ 418079],\n",
       "       [ 467723],\n",
       "       [ 529701],\n",
       "       [ 593423],\n",
       "       [ 660824],\n",
       "       [ 720285],\n",
       "       [ 782490],\n",
       "       [ 857608],\n",
       "       [ 932638],\n",
       "       [1013458],\n",
       "       [1095876],\n",
       "       [1176059],\n",
       "       [1249737],\n",
       "       [1321427],\n",
       "       [1396438],\n",
       "       [1480200],\n",
       "       [1565538],\n",
       "       [1657929],\n",
       "       [1736025],\n",
       "       [1835164],\n",
       "       [1905192],\n",
       "       [1975581],\n",
       "       [2055506],\n",
       "       [2151872],\n",
       "       [2239723],\n",
       "       [2317339],\n",
       "       [2400894],\n",
       "       [2471847],\n",
       "       [2549175],\n",
       "       [2624741],\n",
       "       [2708547],\n",
       "       [2795875],\n",
       "       [2881140],\n",
       "       [2955033],\n",
       "       [3023722],\n",
       "       [3097190],\n",
       "       [3172287],\n",
       "       [3256853],\n",
       "       [3343777],\n",
       "       [3427343],\n",
       "       [3506729]], dtype=int64)"
      ]
     },
     "execution_count": 18,
     "metadata": {},
     "output_type": "execute_result"
    }
   ],
   "source": [
    "world_cases"
   ]
  },
  {
   "cell_type": "raw",
   "metadata": {},
   "source": []
  },
  {
   "cell_type": "code",
   "execution_count": 54,
   "metadata": {},
   "outputs": [],
   "source": [
    "from sklearn.model_selection import train_test_split\n",
    "X_train_confirmed,X_test_confirmed,y_train_confirmed,y_test_confirmed= train_test_split(days_since_1_22,world_cases, test_size= 0.15,  random_state = 0)"
   ]
  },
  {
   "cell_type": "code",
   "execution_count": 34,
   "metadata": {},
   "outputs": [
    {
     "name": "stdout",
     "output_type": "stream",
     "text": [
      "Fitting 3 folds for each of 40 candidates, totalling 120 fits\n"
     ]
    },
    {
     "name": "stderr",
     "output_type": "stream",
     "text": [
      "[Parallel(n_jobs=-1)]: Using backend LokyBackend with 12 concurrent workers.\n",
      "[Parallel(n_jobs=-1)]: Done  26 tasks      | elapsed:    2.3s\n",
      "[Parallel(n_jobs=-1)]: Done 120 out of 120 | elapsed:  2.5min finished\n",
      "D:\\downloads\\anaconda3\\lib\\site-packages\\sklearn\\utils\\validation.py:760: DataConversionWarning: A column-vector y was passed when a 1d array was expected. Please change the shape of y to (n_samples, ), for example using ravel().\n",
      "  y = column_or_1d(y, warn=True)\n"
     ]
    },
    {
     "data": {
      "text/plain": [
       "RandomizedSearchCV(cv=3, error_score=nan,\n",
       "                   estimator=SVR(C=1.0, cache_size=200, coef0=0.0, degree=3,\n",
       "                                 epsilon=0.1, gamma='scale', kernel='rbf',\n",
       "                                 max_iter=-1, shrinking=True, tol=0.001,\n",
       "                                 verbose=False),\n",
       "                   iid='deprecated', n_iter=40, n_jobs=-1,\n",
       "                   param_distributions={'C': [0.01, 0.1, 1, 10],\n",
       "                                        'epsilon': [0.01, 0.1, 1],\n",
       "                                        'gamma': [0.01, 0.1, 1],\n",
       "                                        'kernel': ['poly', 'sigmoid', 'rbf'],\n",
       "                                        'shrinking': [True, False]},\n",
       "                   pre_dispatch='2*n_jobs', random_state=None, refit=True,\n",
       "                   return_train_score=True, scoring='neg_mean_squared_error',\n",
       "                   verbose=1)"
      ]
     },
     "execution_count": 34,
     "metadata": {},
     "output_type": "execute_result"
    }
   ],
   "source": [
    "from sklearn.svm import SVR\n",
    "from sklearn.model_selection import RandomizedSearchCV\n",
    "kernel=['poly','sigmoid','rbf']\n",
    "c=[0.01,0.1,1,10]\n",
    "gamma= [0.01,0.1,1]\n",
    "epsilon = [0.01,0.1,1]\n",
    "shrinking=[True,False]\n",
    "svm_grid={'kernel':kernel,'C':c,'gamma': gamma,'epsilon':epsilon,'shrinking':shrinking}\n",
    "svm=SVR()\n",
    "svm_search=RandomizedSearchCV(svm,svm_grid,scoring='neg_mean_squared_error',cv=3,return_train_score=True, n_jobs=-1,n_iter=40,verbose=1)\n",
    "svm_search.fit(X_train_confirmed,y_train_confirmed)"
   ]
  },
  {
   "cell_type": "code",
   "execution_count": 35,
   "metadata": {},
   "outputs": [
    {
     "data": {
      "text/plain": [
       "{'shrinking': False, 'kernel': 'poly', 'gamma': 1, 'epsilon': 0.1, 'C': 10}"
      ]
     },
     "execution_count": 35,
     "metadata": {},
     "output_type": "execute_result"
    }
   ],
   "source": [
    "svm_search.best_params_"
   ]
  },
  {
   "cell_type": "code",
   "execution_count": 36,
   "metadata": {},
   "outputs": [],
   "source": [
    "svm_confirmed = svm_search.best_estimator_\n",
    "svm_pred= svm_confirmed.predict(future_forecast)"
   ]
  },
  {
   "cell_type": "code",
   "execution_count": 37,
   "metadata": {},
   "outputs": [
    {
     "data": {
      "text/plain": [
       "SVR(C=10, cache_size=200, coef0=0.0, degree=3, epsilon=0.1, gamma=1,\n",
       "    kernel='poly', max_iter=-1, shrinking=False, tol=0.001, verbose=False)"
      ]
     },
     "execution_count": 37,
     "metadata": {},
     "output_type": "execute_result"
    }
   ],
   "source": [
    "svm_confirmed"
   ]
  },
  {
   "cell_type": "code",
   "execution_count": 53,
   "metadata": {},
   "outputs": [
    {
     "data": {
      "text/plain": [
       "array([[ 87],\n",
       "       [ 88],\n",
       "       [ 89],\n",
       "       [ 90],\n",
       "       [ 91],\n",
       "       [ 92],\n",
       "       [ 93],\n",
       "       [ 94],\n",
       "       [ 95],\n",
       "       [ 96],\n",
       "       [ 97],\n",
       "       [ 98],\n",
       "       [ 99],\n",
       "       [100],\n",
       "       [101],\n",
       "       [102]])"
      ]
     },
     "execution_count": 53,
     "metadata": {},
     "output_type": "execute_result"
    }
   ],
   "source": [
    "svm_pred\n",
    "X_test_confirmed"
   ]
  },
  {
   "cell_type": "code",
   "execution_count": 45,
   "metadata": {},
   "outputs": [
    {
     "data": {
      "text/plain": [
       "[<matplotlib.lines.Line2D at 0x1722d620ac8>]"
      ]
     },
     "execution_count": 45,
     "metadata": {},
     "output_type": "execute_result"
    },
    {
     "data": {
      "image/png": "[encoded data removed]",
      "text/plain": [
       "<Figure size 432x288 with 1 Axes>"
      ]
     },
     "metadata": {
      "needs_background": "light"
     },
     "output_type": "display_data"
    }
   ],
   "source": [
    "svm_test_pred = svm_confirmed.predict(X_test_confirmed)\n",
    "plt.plot(svm_test_pred)\n",
    "plt.plot(y_test_confirmed)\n"
   ]
  },
  {
   "cell_type": "code",
   "execution_count": 50,
   "metadata": {},
   "outputs": [
    {
     "data": {
      "image/png": "[encoded data removed]",
      "text/plain": [
       "<Figure size 1440x864 with 1 Axes>"
      ]
     },
     "metadata": {
      "needs_background": "light"
     },
     "output_type": "display_data"
    }
   ],
   "source": [
    "plt.figure(figsize=(20,12))\n",
    "plt.plot(world_cases)\n",
    "plt.show()"
   ]
  },
  {
   "cell_type": "code",
   "execution_count": 57,
   "metadata": {},
   "outputs": [
    {
     "ename": "NameError",
     "evalue": "name 'svm_pred' is not defined",
     "output_type": "error",
     "traceback": [
      "\u001b[1;31m---------------------------------------------------------------------------\u001b[0m",
      "\u001b[1;31mNameError\u001b[0m                                 Traceback (most recent call last)",
      "\u001b[1;32m<ipython-input-57-5986479bcdac>\u001b[0m in \u001b[0;36m<module>\u001b[1;34m\u001b[0m\n\u001b[0;32m      1\u001b[0m \u001b[0mplt\u001b[0m\u001b[1;33m.\u001b[0m\u001b[0mfigure\u001b[0m\u001b[1;33m(\u001b[0m\u001b[0mfigsize\u001b[0m\u001b[1;33m=\u001b[0m\u001b[1;33m(\u001b[0m\u001b[1;36m20\u001b[0m\u001b[1;33m,\u001b[0m\u001b[1;36m12\u001b[0m\u001b[1;33m)\u001b[0m\u001b[1;33m)\u001b[0m\u001b[1;33m\u001b[0m\u001b[1;33m\u001b[0m\u001b[0m\n\u001b[0;32m      2\u001b[0m \u001b[0mplt\u001b[0m\u001b[1;33m.\u001b[0m\u001b[0mplot\u001b[0m\u001b[1;33m(\u001b[0m\u001b[0mworld_cases\u001b[0m\u001b[1;33m)\u001b[0m\u001b[1;33m\u001b[0m\u001b[1;33m\u001b[0m\u001b[0m\n\u001b[1;32m----> 3\u001b[1;33m \u001b[0mplt\u001b[0m\u001b[1;33m.\u001b[0m\u001b[0mplot\u001b[0m\u001b[1;33m(\u001b[0m\u001b[0mfuture_forecast\u001b[0m\u001b[1;33m,\u001b[0m\u001b[0msvm_pred\u001b[0m\u001b[1;33m,\u001b[0m\u001b[0mlinestyle\u001b[0m \u001b[1;33m=\u001b[0m \u001b[1;34m'dashed'\u001b[0m\u001b[1;33m,\u001b[0m \u001b[0mcolor\u001b[0m\u001b[1;33m=\u001b[0m\u001b[1;34m'purple'\u001b[0m\u001b[1;33m)\u001b[0m\u001b[1;33m\u001b[0m\u001b[1;33m\u001b[0m\u001b[0m\n\u001b[0m\u001b[0;32m      4\u001b[0m \u001b[0mplt\u001b[0m\u001b[1;33m.\u001b[0m\u001b[0mshow\u001b[0m\u001b[1;33m(\u001b[0m\u001b[1;33m)\u001b[0m\u001b[1;33m\u001b[0m\u001b[1;33m\u001b[0m\u001b[0m\n",
      "\u001b[1;31mNameError\u001b[0m: name 'svm_pred' is not defined"
     ]
    },
    {
     "data": {
      "image/png": "[encoded data removed]",
      "text/plain": [
       "<Figure size 1440x864 with 1 Axes>"
      ]
     },
     "metadata": {
      "needs_background": "light"
     },
     "output_type": "display_data"
    }
   ],
   "source": [
    "plt.figure(figsize=(20,12))\n",
    "plt.plot(world_cases)\n",
    "plt.plot(future_forecast,svm_pred,linestyle = 'dashed', color='purple')\n",
    "plt.show()"
   ]
  },
  {
   "cell_type": "code",
   "execution_count": 50,
   "metadata": {},
   "outputs": [
    {
     "name": "stdout",
     "output_type": "stream",
     "text": [
      "SVM future predictions :\n"
     ]
    },
    {
     "ename": "NameError",
     "evalue": "name 'svm_pred' is not defined",
     "output_type": "error",
     "traceback": [
      "\u001b[1;31m---------------------------------------------------------------------------\u001b[0m",
      "\u001b[1;31mNameError\u001b[0m                                 Traceback (most recent call last)",
      "\u001b[1;32m<ipython-input-50-293f3a638de7>\u001b[0m in \u001b[0;36m<module>\u001b[1;34m\u001b[0m\n\u001b[0;32m      1\u001b[0m \u001b[0mprint\u001b[0m\u001b[1;33m(\u001b[0m\u001b[1;34m'SVM future predictions :'\u001b[0m\u001b[1;33m)\u001b[0m\u001b[1;33m\u001b[0m\u001b[1;33m\u001b[0m\u001b[0m\n\u001b[1;32m----> 2\u001b[1;33m \u001b[0mset\u001b[0m\u001b[1;33m(\u001b[0m\u001b[1;33m(\u001b[0m\u001b[0mzip\u001b[0m\u001b[1;33m(\u001b[0m\u001b[0mfuture_forecast_dates\u001b[0m\u001b[1;33m[\u001b[0m\u001b[1;33m-\u001b[0m\u001b[1;36m10\u001b[0m\u001b[1;33m:\u001b[0m\u001b[1;33m]\u001b[0m\u001b[1;33m,\u001b[0m\u001b[0msvm_pred\u001b[0m\u001b[1;33m[\u001b[0m\u001b[1;33m-\u001b[0m\u001b[1;36m10\u001b[0m\u001b[1;33m:\u001b[0m\u001b[1;33m]\u001b[0m\u001b[1;33m)\u001b[0m\u001b[1;33m)\u001b[0m\u001b[1;33m)\u001b[0m\u001b[1;33m\u001b[0m\u001b[1;33m\u001b[0m\u001b[0m\n\u001b[0m",
      "\u001b[1;31mNameError\u001b[0m: name 'svm_pred' is not defined"
     ]
    }
   ],
   "source": [
    "print('SVM future predictions :')\n",
    "set((zip(future_forecast_dates[-10:],svm_pred[-10:])))"
   ]
  },
  {
   "cell_type": "code",
   "execution_count": 55,
   "metadata": {},
   "outputs": [
    {
     "data": {
      "text/plain": [
       "LinearRegression(copy_X=True, fit_intercept=True, n_jobs=None, normalize=False)"
      ]
     },
     "execution_count": 55,
     "metadata": {},
     "output_type": "execute_result"
    }
   ],
   "source": [
    "from sklearn.linear_model import LinearRegression\n",
    "lin_reg = LinearRegression()\n",
    "lin_reg.fit(X_train_confirmed,y_train_confirmed)\n",
    "from sklearn.preprocessing import PolynomialFeatures\n",
    "poly_reg = PolynomialFeatures(degree=3)\n",
    "X_poly = poly_reg.fit_transform(X_train_confirmed)\n",
    "lin_reg_2 = LinearRegression()\n",
    "lin_reg_2.fit(X_poly, y_train_confirmed)\n"
   ]
  },
  {
   "cell_type": "code",
   "execution_count": 68,
   "metadata": {},
   "outputs": [
    {
     "data": {
      "image/png": "[encoded data removed]",
      "text/plain": [
       "<Figure size 432x288 with 1 Axes>"
      ]
     },
     "metadata": {
      "needs_background": "light"
     },
     "output_type": "display_data"
    }
   ],
   "source": [
    "plt.plot(world_cases)\n",
    "plt.plot(X_train_confirmed,lin_reg_2.predict(X_poly),color= 'blue')\n",
    "\n",
    "plt.show()\n",
    "\n",
    "\n"
   ]
  },
  {
   "cell_type": "code",
   "execution_count": 58,
   "metadata": {},
   "outputs": [],
   "source": [
    "X_pred = lin_reg_2.predict(poly_reg.fit_transform(future_forecast))"
   ]
  },
  {
   "cell_type": "code",
   "execution_count": 59,
   "metadata": {},
   "outputs": [
    {
     "data": {
      "text/plain": [
       "array([[ 7.60862996e+04],\n",
       "       [ 7.16474896e+04],\n",
       "       [ 6.70593477e+04],\n",
       "       [ 6.23505010e+04],\n",
       "       [ 5.75495768e+04],\n",
       "       [ 5.26852020e+04],\n",
       "       [ 4.77860040e+04],\n",
       "       [ 4.28806097e+04],\n",
       "       [ 3.79976463e+04],\n",
       "       [ 3.31657411e+04],\n",
       "       [ 2.84135210e+04],\n",
       "       [ 2.37696133e+04],\n",
       "       [ 1.92626450e+04],\n",
       "       [ 1.49212434e+04],\n",
       "       [ 1.07740356e+04],\n",
       "       [ 6.84964861e+03],\n",
       "       [ 3.17670968e+03],\n",
       "       [-2.16154080e+02],\n",
       "       [-3.30031553e+03],\n",
       "       [-6.04714754e+03],\n",
       "       [-8.42802297e+03],\n",
       "       [-1.04143147e+04],\n",
       "       [-1.19773955e+04],\n",
       "       [-1.30886384e+04],\n",
       "       [-1.37194161e+04],\n",
       "       [-1.38411016e+04],\n",
       "       [-1.34250676e+04],\n",
       "       [-1.24426871e+04],\n",
       "       [-1.08653330e+04],\n",
       "       [-8.66437799e+03],\n",
       "       [-5.81119505e+03],\n",
       "       [-2.27715701e+03],\n",
       "       [ 1.96636325e+03],\n",
       "       [ 6.94799287e+03],\n",
       "       [ 1.26963590e+04],\n",
       "       [ 1.92400888e+04],\n",
       "       [ 2.66078093e+04],\n",
       "       [ 3.48281478e+04],\n",
       "       [ 4.39297313e+04],\n",
       "       [ 5.39411870e+04],\n",
       "       [ 6.48911421e+04],\n",
       "       [ 7.68082236e+04],\n",
       "       [ 8.97210587e+04],\n",
       "       [ 1.03658275e+05],\n",
       "       [ 1.18648498e+05],\n",
       "       [ 1.34720357e+05],\n",
       "       [ 1.51902478e+05],\n",
       "       [ 1.70223488e+05],\n",
       "       [ 1.89712015e+05],\n",
       "       [ 2.10396685e+05],\n",
       "       [ 2.32306126e+05],\n",
       "       [ 2.55468964e+05],\n",
       "       [ 2.79913828e+05],\n",
       "       [ 3.05669344e+05],\n",
       "       [ 3.32764139e+05],\n",
       "       [ 3.61226840e+05],\n",
       "       [ 3.91086075e+05],\n",
       "       [ 4.22370471e+05],\n",
       "       [ 4.55108654e+05],\n",
       "       [ 4.89329253e+05],\n",
       "       [ 5.25060893e+05],\n",
       "       [ 5.62332203e+05],\n",
       "       [ 6.01171809e+05],\n",
       "       [ 6.41608338e+05],\n",
       "       [ 6.83670418e+05],\n",
       "       [ 7.27386676e+05],\n",
       "       [ 7.72785739e+05],\n",
       "       [ 8.19896234e+05],\n",
       "       [ 8.68746788e+05],\n",
       "       [ 9.19366028e+05],\n",
       "       [ 9.71782582e+05],\n",
       "       [ 1.02602508e+06],\n",
       "       [ 1.08212214e+06],\n",
       "       [ 1.14010239e+06],\n",
       "       [ 1.19999447e+06],\n",
       "       [ 1.26182700e+06],\n",
       "       [ 1.32562861e+06],\n",
       "       [ 1.39142791e+06],\n",
       "       [ 1.45925355e+06],\n",
       "       [ 1.52913415e+06],\n",
       "       [ 1.60109833e+06],\n",
       "       [ 1.67517472e+06],\n",
       "       [ 1.75139195e+06],\n",
       "       [ 1.82977865e+06],\n",
       "       [ 1.91036344e+06],\n",
       "       [ 1.99317495e+06],\n",
       "       [ 2.07824181e+06],\n",
       "       [ 2.16559265e+06],\n",
       "       [ 2.25525608e+06],\n",
       "       [ 2.34726075e+06],\n",
       "       [ 2.44163527e+06],\n",
       "       [ 2.53840828e+06],\n",
       "       [ 2.63760839e+06],\n",
       "       [ 2.73926424e+06],\n",
       "       [ 2.84340446e+06],\n",
       "       [ 2.95005767e+06],\n",
       "       [ 3.05925250e+06],\n",
       "       [ 3.17101757e+06],\n",
       "       [ 3.28538152e+06],\n",
       "       [ 3.40237297e+06],\n",
       "       [ 3.52202055e+06],\n",
       "       [ 3.64435288e+06],\n",
       "       [ 3.76939859e+06],\n",
       "       [ 3.89718631e+06],\n",
       "       [ 4.02774467e+06],\n",
       "       [ 4.16110229e+06],\n",
       "       [ 4.29728780e+06],\n",
       "       [ 4.43632983e+06],\n",
       "       [ 4.57825700e+06],\n",
       "       [ 4.72309795e+06],\n",
       "       [ 4.87088129e+06],\n",
       "       [ 5.02163566e+06],\n",
       "       [ 5.17538969e+06]])"
      ]
     },
     "execution_count": 59,
     "metadata": {},
     "output_type": "execute_result"
    }
   ],
   "source": [
    "X_pred\n"
   ]
  },
  {
   "cell_type": "code",
   "execution_count": 61,
   "metadata": {},
   "outputs": [
    {
     "data": {
      "text/plain": [
       "[<matplotlib.lines.Line2D at 0x23775850648>]"
      ]
     },
     "execution_count": 61,
     "metadata": {},
     "output_type": "execute_result"
    },
    {
     "data": {
      "image/png": "[encoded data removed]",
      "text/plain": [
       "<Figure size 432x288 with 1 Axes>"
      ]
     },
     "metadata": {
      "needs_background": "light"
     },
     "output_type": "display_data"
    }
   ],
   "source": [
    "poly_test_pred = lin_reg_2.predict(poly_reg.fit_transform(X_test_confirmed))\n",
    "plt.plot(poly_test_pred)\n",
    "plt.plot(y_test_confirmed)\n"
   ]
  },
  {
   "cell_type": "code",
   "execution_count": 63,
   "metadata": {},
   "outputs": [
    {
     "data": {
      "image/png": "[encoded data removed]",
      "text/plain": [
       "<Figure size 1440x864 with 1 Axes>"
      ]
     },
     "metadata": {
      "needs_background": "light"
     },
     "output_type": "display_data"
    }
   ],
   "source": [
    "plt.figure(figsize=(20,12))\n",
    "plt.plot(world_cases)\n",
    "plt.plot(future_forecast,X_pred,linestyle = 'dashed', color='purple')\n",
    "plt.show()"
   ]
  },
  {
   "cell_type": "code",
   "execution_count": 46,
   "metadata": {},
   "outputs": [
    {
     "data": {
      "image/png": "[encoded data removed]",
      "text/plain": [
       "<Figure size 1440x864 with 1 Axes>"
      ]
     },
     "metadata": {
      "needs_background": "light"
     },
     "output_type": "display_data"
    }
   ],
   "source": [
    "plt.figure(figsize=(20,12))\n",
    "plt.plot(world_cases)\n",
    "plt.plot(total_deaths)\n",
    "plt.plot(total_recovered)\n",
    "plt.show()\n"
   ]
  },
  {
   "cell_type": "code",
   "execution_count": 64,
   "metadata": {},
   "outputs": [
    {
     "name": "stdout",
     "output_type": "stream",
     "text": [
      "Polynomial Regression future predictions :\n",
      "['05/04/2020', '05/05/2020', '05/06/2020', '05/07/2020', '05/08/2020', '05/09/2020', '05/10/2020', '05/11/2020', '05/12/2020', '05/13/2020'] [[3897186.31093173]\n",
      " [4027744.66851074]\n",
      " [4161102.2893416 ]\n",
      " [4297287.80056161]\n",
      " [4436329.82930806]\n",
      " [4578257.00271825]\n",
      " [4723097.94792948]\n",
      " [4870881.29207904]\n",
      " [5021635.66230422]\n",
      " [5175389.68574234]]\n"
     ]
    }
   ],
   "source": [
    "print('Polynomial Regression future predictions :')\n",
    "print(future_forecast_dates[-10:],X_pred[-10:])"
   ]
  },
  {
   "cell_type": "code",
   "execution_count": 97,
   "metadata": {},
   "outputs": [],
   "source": [
    "from sklearn.preprocessing import MinMaxScaler\n",
    "sc = MinMaxScaler(feature_range= (0,1))\n",
    "training_set_scaled=sc.fit_transform(world_cases)\n",
    "X_train=[]\n",
    "Y_train=[]\n",
    "for i in range(10, 92):\n",
    "    X_train.append(training_set_scaled[i-10:i,0])\n",
    "    Y_train.append(training_set_scaled[i,0])\n",
    "X_train,Y_train= np.array(X_train), np.array(Y_train)\n",
    "\n",
    "X_train=np.reshape(X_train,(X_train.shape[0], X_train.shape[1], 1))\n"
   ]
  },
  {
   "cell_type": "code",
   "execution_count": 74,
   "metadata": {},
   "outputs": [],
   "source": [
    "from keras.models import Sequential\n",
    "from keras.layers import Dense\n",
    "from keras.layers import LSTM\n",
    "from keras.layers import Dropout\n",
    "regressor=Sequential()\n",
    "\n",
    "regressor.add(LSTM(units= 50, return_sequences=True, input_shape=(X_train.shape[1],1)))\n",
    "regressor.add(Dropout(0.2))\n",
    "\n",
    "regressor.add(LSTM(units= 50, return_sequences=True))\n",
    "regressor.add(Dropout(0.2))\n",
    "\n",
    "regressor.add(LSTM(units= 50, return_sequences=True))\n",
    "regressor.add(Dropout(0.2))\n",
    "\n",
    "regressor.add(LSTM(units= 50))\n",
    "regressor.add(Dropout(0.2))\n",
    "\n",
    "regressor.add(Dense(units= 1))\n",
    "\n",
    "regressor.compile(optimizer='adam',loss='mean_squared_error' )\n",
    "\n"
   ]
  },
  {
   "cell_type": "code",
   "execution_count": 75,
   "metadata": {},
   "outputs": [
    {
     "name": "stdout",
     "output_type": "stream",
     "text": [
      "WARNING:tensorflow:From D:\\downloads\\anaconda3\\lib\\site-packages\\keras\\backend\\tensorflow_backend.py:422: The name tf.global_variables is deprecated. Please use tf.compat.v1.global_variables instead.\n",
      "\n",
      "Epoch 1/50\n",
      "82/82 [==============================] - 2s 23ms/step - loss: 0.0690\n",
      "Epoch 2/50\n",
      "82/82 [==============================] - 0s 3ms/step - loss: 0.0390\n",
      "Epoch 3/50\n",
      "82/82 [==============================] - 0s 2ms/step - loss: 0.0339\n",
      "Epoch 4/50\n",
      "82/82 [==============================] - 0s 2ms/step - loss: 0.0245\n",
      "Epoch 5/50\n",
      "82/82 [==============================] - 0s 2ms/step - loss: 0.0075\n",
      "Epoch 6/50\n",
      "82/82 [==============================] - 0s 2ms/step - loss: 0.0053\n",
      "Epoch 7/50\n",
      "82/82 [==============================] - 0s 2ms/step - loss: 0.0067\n",
      "Epoch 8/50\n",
      "82/82 [==============================] - 0s 2ms/step - loss: 0.0033\n",
      "Epoch 9/50\n",
      "82/82 [==============================] - 0s 2ms/step - loss: 0.0035\n",
      "Epoch 10/50\n",
      "82/82 [==============================] - 0s 2ms/step - loss: 0.0039\n",
      "Epoch 11/50\n",
      "82/82 [==============================] - 0s 2ms/step - loss: 0.0036\n",
      "Epoch 12/50\n",
      "82/82 [==============================] - 0s 2ms/step - loss: 0.0022\n",
      "Epoch 13/50\n",
      "82/82 [==============================] - 0s 2ms/step - loss: 0.0022\n",
      "Epoch 14/50\n",
      "82/82 [==============================] - 0s 2ms/step - loss: 0.0020\n",
      "Epoch 15/50\n",
      "82/82 [==============================] - 0s 2ms/step - loss: 0.0021\n",
      "Epoch 16/50\n",
      "82/82 [==============================] - 0s 2ms/step - loss: 0.0024\n",
      "Epoch 17/50\n",
      "82/82 [==============================] - 0s 2ms/step - loss: 0.0021\n",
      "Epoch 18/50\n",
      "82/82 [==============================] - 0s 2ms/step - loss: 0.0016\n",
      "Epoch 19/50\n",
      "82/82 [==============================] - 0s 2ms/step - loss: 0.0030\n",
      "Epoch 20/50\n",
      "82/82 [==============================] - 0s 2ms/step - loss: 0.0020\n",
      "Epoch 21/50\n",
      "82/82 [==============================] - 0s 2ms/step - loss: 0.0026\n",
      "Epoch 22/50\n",
      "82/82 [==============================] - 0s 2ms/step - loss: 0.0021\n",
      "Epoch 23/50\n",
      "82/82 [==============================] - 0s 2ms/step - loss: 0.0017\n",
      "Epoch 24/50\n",
      "82/82 [==============================] - 0s 2ms/step - loss: 0.0017\n",
      "Epoch 25/50\n",
      "82/82 [==============================] - 0s 2ms/step - loss: 0.0017\n",
      "Epoch 26/50\n",
      "82/82 [==============================] - 0s 2ms/step - loss: 0.0018\n",
      "Epoch 27/50\n",
      "82/82 [==============================] - 0s 2ms/step - loss: 0.0014\n",
      "Epoch 28/50\n",
      "82/82 [==============================] - 0s 2ms/step - loss: 8.5055e-04\n",
      "Epoch 29/50\n",
      "82/82 [==============================] - 0s 2ms/step - loss: 0.0017\n",
      "Epoch 30/50\n",
      "82/82 [==============================] - 0s 2ms/step - loss: 0.0017\n",
      "Epoch 31/50\n",
      "82/82 [==============================] - 0s 2ms/step - loss: 0.0021\n",
      "Epoch 32/50\n",
      "82/82 [==============================] - 0s 2ms/step - loss: 0.0010\n",
      "Epoch 33/50\n",
      "82/82 [==============================] - 0s 2ms/step - loss: 0.0014\n",
      "Epoch 34/50\n",
      "82/82 [==============================] - 0s 2ms/step - loss: 0.0012\n",
      "Epoch 35/50\n",
      "82/82 [==============================] - 0s 2ms/step - loss: 8.1184e-04\n",
      "Epoch 36/50\n",
      "82/82 [==============================] - 0s 2ms/step - loss: 9.8583e-04\n",
      "Epoch 37/50\n",
      "82/82 [==============================] - 0s 2ms/step - loss: 0.0015\n",
      "Epoch 38/50\n",
      "82/82 [==============================] - 0s 2ms/step - loss: 0.0013\n",
      "Epoch 39/50\n",
      "82/82 [==============================] - 0s 2ms/step - loss: 0.0010\n",
      "Epoch 40/50\n",
      "82/82 [==============================] - 0s 2ms/step - loss: 7.0081e-04\n",
      "Epoch 41/50\n",
      "82/82 [==============================] - 0s 2ms/step - loss: 8.7316e-04\n",
      "Epoch 42/50\n",
      "82/82 [==============================] - 0s 2ms/step - loss: 8.3519e-04\n",
      "Epoch 43/50\n",
      "82/82 [==============================] - 0s 2ms/step - loss: 6.0115e-04\n",
      "Epoch 44/50\n",
      "82/82 [==============================] - 0s 2ms/step - loss: 7.2775e-04\n",
      "Epoch 45/50\n",
      "82/82 [==============================] - 0s 2ms/step - loss: 0.0011\n",
      "Epoch 46/50\n",
      "82/82 [==============================] - 0s 2ms/step - loss: 7.5111e-04\n",
      "Epoch 47/50\n",
      "82/82 [==============================] - 0s 2ms/step - loss: 0.0015\n",
      "Epoch 48/50\n",
      "82/82 [==============================] - 0s 2ms/step - loss: 7.8322e-04\n",
      "Epoch 49/50\n",
      "82/82 [==============================] - 0s 2ms/step - loss: 0.0010\n",
      "Epoch 50/50\n",
      "82/82 [==============================] - 0s 2ms/step - loss: 0.0013\n"
     ]
    },
    {
     "data": {
      "text/plain": [
       "<keras.callbacks.callbacks.History at 0x2377587dac8>"
      ]
     },
     "execution_count": 75,
     "metadata": {},
     "output_type": "execute_result"
    }
   ],
   "source": [
    "regressor.fit(X_train,Y_train,epochs=50, batch_size=23)"
   ]
  },
  {
   "cell_type": "code",
   "execution_count": 87,
   "metadata": {},
   "outputs": [],
   "source": [
    "dataset_test=world_cases[-10:]"
   ]
  },
  {
   "cell_type": "code",
   "execution_count": 84,
   "metadata": {},
   "outputs": [],
   "source": [
    "\n",
    "inputs = world_cases[82:]\n",
    "inputs=inputs.reshape(-1,1)\n",
    "inputs=sc.transform(inputs)\n"
   ]
  },
  {
   "cell_type": "code",
   "execution_count": 90,
   "metadata": {},
   "outputs": [],
   "source": [
    "X_test=[]\n",
    "\n",
    "for i in range(10, 20):\n",
    "    X_test.append(inputs[i-10:i,0])\n",
    "X_test= np.array(X_test)\n",
    "\n",
    "X_test=np.reshape(X_test,(X_test.shape[0], X_test.shape[1], 1))\n",
    "predicted_stock_price=regressor.predict(X_test)\n",
    "predicted_stock_price=sc.inverse_transform(predicted_stock_price)"
   ]
  },
  {
   "cell_type": "code",
   "execution_count": 88,
   "metadata": {},
   "outputs": [
    {
     "data": {
      "image/png": "[encoded data removed]",
      "text/plain": [
       "<Figure size 432x288 with 1 Axes>"
      ]
     },
     "metadata": {
      "needs_background": "light"
     },
     "output_type": "display_data"
    }
   ],
   "source": [
    "plt.plot(dataset_test, color='red', label='Real Google Stock Price')\n",
    "plt.plot(predicted_stock_price,color='blue', label='Predicted Google Stock Price')\n",
    "plt.title('Google Stock Price Prediction')\n",
    "plt.xlabel('Time')\n",
    "plt.ylabel('Google Stock Price')\n",
    "plt.legend()\n",
    "plt.show()\n"
   ]
  },
  {
   "cell_type": "code",
   "execution_count": 96,
   "metadata": {},
   "outputs": [
    {
     "data": {
      "image/png": "[encoded data removed]",
      "text/plain": [
       "<Figure size 432x288 with 1 Axes>"
      ]
     },
     "metadata": {
      "needs_background": "light"
     },
     "output_type": "display_data"
    }
   ],
   "source": [
    "plt.plot(world_cases)\n",
    "plt.plot(X_train)\n",
    "\n",
    "plt.show()\n"
   ]
  },
  {
   "cell_type": "code",
   "execution_count": null,
   "metadata": {},
   "outputs": [],
   "source": []
  }
 ],
 "metadata": {
  "kernelspec": {
   "display_name": "Python 3",
   "language": "python",
   "name": "python3"
  },
  "language_info": {
   "codemirror_mode": {
    "name": "ipython",
    "version": 3
   },
   "file_extension": ".py",
   "mimetype": "text/x-python",
   "name": "python",
   "nbconvert_exporter": "python",
   "pygments_lexer": "ipython3",
   "version": "3.7.6"
  }
 },
 "nbformat": 4,
 "nbformat_minor": 4
}
